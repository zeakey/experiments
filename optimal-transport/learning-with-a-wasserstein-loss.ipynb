{
 "cells": [
  {
   "cell_type": "code",
   "execution_count": 1,
   "metadata": {
    "collapsed": true
   },
   "outputs": [],
   "source": [
    "import numpy as np\n",
    "import matplotlib\n",
    "import matplotlib.pyplot as plt\n",
    "%matplotlib inline\n",
    "import h5py"
   ]
  },
  {
   "cell_type": "markdown",
   "metadata": {},
   "source": [
    "Migrate from <https://github.com/frogner/caffe/blob/wasserstein/src/caffe/layers/wasserstein_loss_layer.cpp>"
   ]
  },
  {
   "cell_type": "code",
   "execution_count": 12,
   "metadata": {},
   "outputs": [],
   "source": [
    "groundm_ = np.array(h5py.File(\"mnist_ground_metric.h5\", \"r\")[\"data\"])"
   ]
  },
  {
   "cell_type": "code",
   "execution_count": 13,
   "metadata": {},
   "outputs": [
    {
     "data": {
      "text/plain": [
       "array([[ 0.,  1.,  2.,  3.,  4.,  5.,  6.,  7.,  8.,  9.],\n",
       "       [ 1.,  0.,  1.,  2.,  3.,  4.,  5.,  6.,  7.,  8.],\n",
       "       [ 2.,  1.,  0.,  1.,  2.,  3.,  4.,  5.,  6.,  7.],\n",
       "       [ 3.,  2.,  1.,  0.,  1.,  2.,  3.,  4.,  5.,  6.],\n",
       "       [ 4.,  3.,  2.,  1.,  0.,  1.,  2.,  3.,  4.,  5.],\n",
       "       [ 5.,  4.,  3.,  2.,  1.,  0.,  1.,  2.,  3.,  4.],\n",
       "       [ 6.,  5.,  4.,  3.,  2.,  1.,  0.,  1.,  2.,  3.],\n",
       "       [ 7.,  6.,  5.,  4.,  3.,  2.,  1.,  0.,  1.,  2.],\n",
       "       [ 8.,  7.,  6.,  5.,  4.,  3.,  2.,  1.,  0.,  1.],\n",
       "       [ 9.,  8.,  7.,  6.,  5.,  4.,  3.,  2.,  1.,  0.]], dtype=float32)"
      ]
     },
     "execution_count": 13,
     "metadata": {},
     "output_type": "execute_result"
    }
   ],
   "source": [
    "groundm_"
   ]
  },
  {
   "cell_type": "code",
   "execution_count": 23,
   "metadata": {},
   "outputs": [
    {
     "data": {
      "text/plain": [
       "array([[ 0.,  1.,  2.,  3.,  4.,  5.,  6.,  7.,  8.,  9.],\n",
       "       [ 1.,  0.,  1.,  2.,  3.,  4.,  5.,  6.,  7.,  8.],\n",
       "       [ 2.,  1.,  0.,  1.,  2.,  3.,  4.,  5.,  6.,  7.],\n",
       "       [ 3.,  2.,  1.,  0.,  1.,  2.,  3.,  4.,  5.,  6.],\n",
       "       [ 4.,  3.,  2.,  1.,  0.,  1.,  2.,  3.,  4.,  5.],\n",
       "       [ 5.,  4.,  3.,  2.,  1.,  0.,  1.,  2.,  3.,  4.],\n",
       "       [ 6.,  5.,  4.,  3.,  2.,  1.,  0.,  1.,  2.,  3.],\n",
       "       [ 7.,  6.,  5.,  4.,  3.,  2.,  1.,  0.,  1.,  2.],\n",
       "       [ 8.,  7.,  6.,  5.,  4.,  3.,  2.,  1.,  0.,  1.],\n",
       "       [ 9.,  8.,  7.,  6.,  5.,  4.,  3.,  2.,  1.,  0.]], dtype=float32)"
      ]
     },
     "execution_count": 23,
     "metadata": {},
     "output_type": "execute_result"
    }
   ],
   "source": [
    "groundm_"
   ]
  },
  {
   "cell_type": "code",
   "execution_count": 28,
   "metadata": {
    "collapsed": true
   },
   "outputs": [],
   "source": [
    "lambda_ = 0.1"
   ]
  },
  {
   "cell_type": "code",
   "execution_count": 29,
   "metadata": {
    "collapsed": true
   },
   "outputs": [],
   "source": [
    "K_ = groundm_.copy()\n",
    "K_ *= -lambda_\n",
    "K_ += -1\n",
    "K_ = np.exp(K_)"
   ]
  },
  {
   "cell_type": "code",
   "execution_count": 30,
   "metadata": {},
   "outputs": [
    {
     "data": {
      "text/plain": [
       "array([[ 0.36787945,  0.33287108,  0.30119419,  0.27253181,  0.24659698,\n",
       "         0.22313017,  0.20189652,  0.18268351,  0.16529889,  0.1495686 ],\n",
       "       [ 0.33287108,  0.36787945,  0.33287108,  0.30119419,  0.27253181,\n",
       "         0.24659698,  0.22313017,  0.20189652,  0.18268351,  0.16529889],\n",
       "       [ 0.30119419,  0.33287108,  0.36787945,  0.33287108,  0.30119419,\n",
       "         0.27253181,  0.24659698,  0.22313017,  0.20189652,  0.18268351],\n",
       "       [ 0.27253181,  0.30119419,  0.33287108,  0.36787945,  0.33287108,\n",
       "         0.30119419,  0.27253181,  0.24659698,  0.22313017,  0.20189652],\n",
       "       [ 0.24659698,  0.27253181,  0.30119419,  0.33287108,  0.36787945,\n",
       "         0.33287108,  0.30119419,  0.27253181,  0.24659698,  0.22313017],\n",
       "       [ 0.22313017,  0.24659698,  0.27253181,  0.30119419,  0.33287108,\n",
       "         0.36787945,  0.33287108,  0.30119419,  0.27253181,  0.24659698],\n",
       "       [ 0.20189652,  0.22313017,  0.24659698,  0.27253181,  0.30119419,\n",
       "         0.33287108,  0.36787945,  0.33287108,  0.30119419,  0.27253181],\n",
       "       [ 0.18268351,  0.20189652,  0.22313017,  0.24659698,  0.27253181,\n",
       "         0.30119419,  0.33287108,  0.36787945,  0.33287108,  0.30119419],\n",
       "       [ 0.16529889,  0.18268351,  0.20189652,  0.22313017,  0.24659698,\n",
       "         0.27253181,  0.30119419,  0.33287108,  0.36787945,  0.33287108],\n",
       "       [ 0.1495686 ,  0.16529889,  0.18268351,  0.20189652,  0.22313017,\n",
       "         0.24659698,  0.27253181,  0.30119419,  0.33287108,  0.36787945]], dtype=float32)"
      ]
     },
     "execution_count": 30,
     "metadata": {},
     "output_type": "execute_result"
    }
   ],
   "source": [
    "K_"
   ]
  },
  {
   "cell_type": "code",
   "execution_count": 31,
   "metadata": {
    "collapsed": true
   },
   "outputs": [],
   "source": [
    "KM_ = np.multiply(K_, groundm_)"
   ]
  },
  {
   "cell_type": "code",
   "execution_count": 32,
   "metadata": {
    "collapsed": true
   },
   "outputs": [],
   "source": [
    "KlogK = np.multiply(np.log(K_), K_)"
   ]
  },
  {
   "cell_type": "code",
   "execution_count": 33,
   "metadata": {},
   "outputs": [
    {
     "data": {
      "text/plain": [
       "array([[-0.36787945, -0.36615819, -0.36143303, -0.35429135, -0.34523576,\n",
       "        -0.33469525, -0.32303444, -0.31056198, -0.29753801, -0.28418037],\n",
       "       [-0.36615819, -0.36787945, -0.36615819, -0.36143303, -0.35429135,\n",
       "        -0.34523576, -0.33469525, -0.32303444, -0.31056198, -0.29753801],\n",
       "       [-0.36143303, -0.36615819, -0.36787945, -0.36615819, -0.36143303,\n",
       "        -0.35429135, -0.34523576, -0.33469525, -0.32303444, -0.31056198],\n",
       "       [-0.35429135, -0.36143303, -0.36615819, -0.36787945, -0.36615819,\n",
       "        -0.36143303, -0.35429135, -0.34523576, -0.33469525, -0.32303444],\n",
       "       [-0.34523576, -0.35429135, -0.36143303, -0.36615819, -0.36787945,\n",
       "        -0.36615819, -0.36143303, -0.35429135, -0.34523576, -0.33469525],\n",
       "       [-0.33469525, -0.34523576, -0.35429135, -0.36143303, -0.36615819,\n",
       "        -0.36787945, -0.36615819, -0.36143303, -0.35429135, -0.34523576],\n",
       "       [-0.32303444, -0.33469525, -0.34523576, -0.35429135, -0.36143303,\n",
       "        -0.36615819, -0.36787945, -0.36615819, -0.36143303, -0.35429135],\n",
       "       [-0.31056198, -0.32303444, -0.33469525, -0.34523576, -0.35429135,\n",
       "        -0.36143303, -0.36615819, -0.36787945, -0.36615819, -0.36143303],\n",
       "       [-0.29753801, -0.31056198, -0.32303444, -0.33469525, -0.34523576,\n",
       "        -0.35429135, -0.36143303, -0.36615819, -0.36787945, -0.36615819],\n",
       "       [-0.28418037, -0.29753801, -0.31056198, -0.32303444, -0.33469525,\n",
       "        -0.34523576, -0.35429135, -0.36143303, -0.36615819, -0.36787945]], dtype=float32)"
      ]
     },
     "execution_count": 33,
     "metadata": {},
     "output_type": "execute_result"
    }
   ],
   "source": [
    "KlogK"
   ]
  },
  {
   "cell_type": "markdown",
   "metadata": {
    "collapsed": true
   },
   "source": [
    "## Calculate EMD"
   ]
  },
  {
   "cell_type": "code",
   "execution_count": 71,
   "metadata": {},
   "outputs": [
    {
     "data": {
      "text/plain": [
       "array([ 0.11901983,  0.13532925,  0.09675592,  0.13185965,  0.13822228,\n",
       "        0.10331983,  0.08312453,  0.10940269,  0.04169821,  0.04126782])"
      ]
     },
     "execution_count": 71,
     "metadata": {},
     "output_type": "execute_result"
    }
   ],
   "source": [
    "prediction = np.random.rand(10)\n",
    "prediction /= prediction.sum()\n",
    "target = np.zeros(10)\n",
    "target[5] = 1\n",
    "target\n",
    "prediction"
   ]
  },
  {
   "cell_type": "code",
   "execution_count": 72,
   "metadata": {},
   "outputs": [
    {
     "data": {
      "text/plain": [
       "Text(0.5,1,'Target')"
      ]
     },
     "execution_count": 72,
     "metadata": {},
     "output_type": "execute_result"
    },
    {
     "data": {
      "image/png": "[encoded data removed]",
      "text/plain": [
       "<matplotlib.figure.Figure at 0x242476b93c8>"
      ]
     },
     "metadata": {},
     "output_type": "display_data"
    }
   ],
   "source": [
    "fig, axes = plt.subplots(1, 2)\n",
    "axes[0].bar(np.arange(10), prediction)\n",
    "axes[0].set_title(\"Prediction\")\n",
    "axes[1].bar(np.arange(10), target)\n",
    "axes[1].set_title(\"Target\")"
   ]
  },
  {
   "cell_type": "code",
   "execution_count": 98,
   "metadata": {},
   "outputs": [],
   "source": [
    "prediction = prediction.reshape(1, 10)\n",
    "target = target.reshape(1, 10)"
   ]
  },
  {
   "cell_type": "markdown",
   "metadata": {},
   "source": [
    "## Iteration\n",
    "\n",
    "Original cpp code (<https://github.com/frogner/caffe/blob/wasserstein/src/caffe/layers/wasserstein_loss_layer.cpp#L122-L132>):\n",
    "```\n",
    "for (int i = 0; i < scaling_iter; i++) {\n",
    "    // v = ylabel ./ K^t u\n",
    "    caffe_cpu_gemm(CblasNoTrans, CblasNoTrans, num, dim, dim, Dtype(1.),\n",
    "                   u, K, Dtype(0.), v);\n",
    "    caffe_div(count, ylabel, v, v);\n",
    "\n",
    "    // u = ypred ./ K v\n",
    "    caffe_cpu_gemm(CblasNoTrans, CblasTrans, num, dim, dim, Dtype(1.),\n",
    "                   v, K, Dtype(0.), u);\n",
    "    caffe_div(count, ypred, u, u);\n",
    "}\n",
    "```"
   ]
  },
  {
   "cell_type": "code",
   "execution_count": 139,
   "metadata": {},
   "outputs": [
    {
     "name": "stdout",
     "output_type": "stream",
     "text": [
      "u= [[ 0.          0.          0.          0.          0.          7.87594339\n",
      "   0.          0.          0.          0.        ]]\n",
      "v= [[ 0.          0.          0.          0.          0.          0.34513729\n",
      "   0.          0.          0.          0.        ]]\n"
     ]
    }
   ],
   "source": [
    "u_ = np.ones_like(prediction)\n",
    "v_ = np.ones_like(prediction)\n",
    "\n",
    "scaling_iter = 100\n",
    "\n",
    "for i in range(scaling_iter):\n",
    "    v_ = np.divide(target, np.matmul(u_, K_))\n",
    "    u_ = np.divide(target, np.matmul(v_, K_.transpose()))\n",
    "\n",
    "print(\"u=\", u_)\n",
    "print(\"v=\", v_)"
   ]
  },
  {
   "cell_type": "code",
   "execution_count": 140,
   "metadata": {},
   "outputs": [],
   "source": [
    "tmp_ = np.empty_like(u_)\n",
    "tmp2_ = np.empty_like(u_)\n",
    "\n",
    "tmp_ = np.matmul(u_, KM)"
   ]
  },
  {
   "cell_type": "code",
   "execution_count": 141,
   "metadata": {},
   "outputs": [
    {
     "name": "stdout",
     "output_type": "stream",
     "text": [
      "[ 0.          0.          0.          0.          0.          0.34513729\n",
      "  0.          0.          0.          0.        ]\n",
      "[ 8.78680328  7.76873533  6.43933527  4.7443768   2.62167378  0.\n",
      "  2.62167378  4.7443768   6.43933527  7.76873533]\n",
      "0.0\n"
     ]
    }
   ],
   "source": [
    "loss = np.multiply(v_, tmp_).sum()\n",
    "print(v_.squeeze())\n",
    "print(tmp_.squeeze())\n",
    "print(loss)"
   ]
  },
  {
   "cell_type": "code",
   "execution_count": 142,
   "metadata": {},
   "outputs": [
    {
     "name": "stderr",
     "output_type": "stream",
     "text": [
      "C:\\ProgramData\\Anaconda3\\lib\\site-packages\\ipykernel_launcher.py:1: RuntimeWarning: divide by zero encountered in log\n",
      "  \"\"\"Entry point for launching an IPython kernel.\n"
     ]
    }
   ],
   "source": [
    "tmp_ = np.log(u_)"
   ]
  },
  {
   "cell_type": "code",
   "execution_count": 143,
   "metadata": {},
   "outputs": [
    {
     "data": {
      "text/plain": [
       "array([[       -inf,        -inf,        -inf,        -inf,        -inf,\n",
       "         2.06381297,        -inf,        -inf,        -inf,        -inf]])"
      ]
     },
     "execution_count": 143,
     "metadata": {},
     "output_type": "execute_result"
    }
   ],
   "source": [
    "tmp_"
   ]
  },
  {
   "cell_type": "code",
   "execution_count": null,
   "metadata": {
    "collapsed": true
   },
   "outputs": [],
   "source": []
  }
 ],
 "metadata": {
  "kernelspec": {
   "display_name": "Python 3",
   "language": "python",
   "name": "python3"
  },
  "language_info": {
   "codemirror_mode": {
    "name": "ipython",
    "version": 3
   },
   "file_extension": ".py",
   "mimetype": "text/x-python",
   "name": "python",
   "nbconvert_exporter": "python",
   "pygments_lexer": "ipython3",
   "version": "3.6.3"
  }
 },
 "nbformat": 4,
 "nbformat_minor": 2
}
