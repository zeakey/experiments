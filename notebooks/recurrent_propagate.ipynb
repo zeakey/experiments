{
 "cells": [
  {
   "cell_type": "code",
   "execution_count": 1,
   "metadata": {},
   "outputs": [],
   "source": [
    "import torch\n",
    "import torch.nn as nn\n",
    "import numpy as np\n",
    "import matplotlib\n",
    "import matplotlib.pyplot as plt\n",
    "%matplotlib inline"
   ]
  },
  {
   "cell_type": "code",
   "execution_count": 2,
   "metadata": {},
   "outputs": [
    {
     "data": {
      "text/plain": [
       "<matplotlib.image.AxesImage at 0x7fbbb0dde470>"
      ]
     },
     "execution_count": 2,
     "metadata": {},
     "output_type": "execute_result"
    },
    {
     "data": {
      "image/png": "[encoded data removed]",
      "text/plain": [
       "<Figure size 432x288 with 1 Axes>"
      ]
     },
     "metadata": {
      "needs_background": "light"
     },
     "output_type": "display_data"
    }
   ],
   "source": [
    "x = np.zeros((10, 10))\n",
    "for i in range(10):\n",
    "    x[:, i] = i\n",
    "plt.imshow(x)"
   ]
  },
  {
   "cell_type": "code",
   "execution_count": 176,
   "metadata": {},
   "outputs": [],
   "source": [
    "class RecurrentProp(nn.Module):\n",
    "\n",
    "    def __init__(self, input_size):\n",
    "        super(RecurrentProp, self).__init__()\n",
    "        self.input_size = input_size\n",
    "\n",
    "        self.weight = torch.nn.Parameter(torch.eye(self.input_size))\n",
    "\n",
    "    def forward(self, data):\n",
    "        N, C, H, W = data.shape\n",
    "        assert C == self.input_size, \"%d vs %d\" % (C, self.input_size)\n",
    "        previous = torch.zeros((self.input_size))\n",
    "        # left to right\n",
    "        output0 = torch.tensor(data)\n",
    "        for x in range(1, W):\n",
    "            data1 = output0[:, :, :, x-1]\n",
    "            # N, C, H --> N, H, C\n",
    "            data1 = torch.transpose(data1, 1, 2).contiguous()\n",
    "            data1 = data1.view(-1, self.input_size)\n",
    "            tmp = torch.mm(data1, self.weight)\n",
    "            tmp = torch.reshape(tmp, (N, H, C))\n",
    "            # N, H, C --> N, C, H\n",
    "            tmp = torch.transpose(tmp, 1, 2).contiguous()\n",
    "            output0[:, :, :, x] += tmp\n",
    "        \n",
    "        # right to left\n",
    "        output1 = torch.tensor(data)\n",
    "        for x in range(W-2, -1, -1):\n",
    "            data1 = output1[:, :, :, x+1]\n",
    "            # N, C, H --> N, H, C\n",
    "            data1 = torch.transpose(data1, 1, 2).contiguous()\n",
    "            data1 = data1.view(-1, self.input_size)\n",
    "            tmp = torch.mm(data1, self.weight)\n",
    "            tmp = torch.reshape(tmp, (N, H, C))\n",
    "            # N, H, C --> N, C, H\n",
    "            tmp = torch.transpose(tmp, 1, 2).contiguous()\n",
    "            output1[:, :, :, x] += tmp\n",
    "            \n",
    "        # top down\n",
    "        output2 = torch.tensor(data)\n",
    "        for y in range(1, H):\n",
    "            # data of previous row\n",
    "            data1 = output2[:, :, y-1, :]\n",
    "            # N, C, W --> N, W, C\n",
    "            data1 = torch.transpose(data1, 1, 2).contiguous()\n",
    "            data1 = data1.view(-1, self.input_size)\n",
    "            tmp = torch.mm(data1, self.weight)\n",
    "            tmp = torch.reshape(tmp, (N, H, C))\n",
    "            # N, W, C --> N, C, W\n",
    "            tmp = torch.transpose(tmp, 1, 2).contiguous()\n",
    "            output2[:, :, y, :] += tmp\n",
    "        \n",
    "         # bottom up\n",
    "        output3 = torch.tensor(data)\n",
    "        for y in range(H-2, -1, -1):\n",
    "            # data of previous row\n",
    "            data1 = output3[:, :, y+1, :]\n",
    "            # N, C, W --> N, W, C\n",
    "            data1 = torch.transpose(data1, 1, 2).contiguous()\n",
    "            data1 = data1.view(-1, self.input_size)\n",
    "            tmp = torch.mm(data1, self.weight)\n",
    "            tmp = torch.reshape(tmp, (N, H, C))\n",
    "            # N, W, C --> N, C, W\n",
    "            tmp = torch.transpose(tmp, 1, 2).contiguous()\n",
    "            output3[:, :, y, :] += tmp\n",
    "\n",
    "        return torch.cat((output0, output1, output2, output3), dim=1)"
   ]
  },
  {
   "cell_type": "code",
   "execution_count": 177,
   "metadata": {},
   "outputs": [],
   "source": [
    "class Model(nn.Module):\n",
    "    def __init__(self):\n",
    "        super(Model, self).__init__()\n",
    "        self.recurrent = RecurrentProp(input_size=5, hidden_size=5)\n",
    "    def foward(self, x):\n",
    "        return self.recurrent(x)"
   ]
  },
  {
   "cell_type": "code",
   "execution_count": 178,
   "metadata": {},
   "outputs": [],
   "source": [
    "input_size = 3\n",
    "model = RecurrentProp(input_size=input_size)\n",
    "\n",
    "x = torch.ones((1, input_size, 5, 5))\n",
    "output = model(x)"
   ]
  },
  {
   "cell_type": "code",
   "execution_count": 179,
   "metadata": {},
   "outputs": [
    {
     "data": {
      "text/plain": [
       "tensor([[[[1., 2., 3., 4., 5.],\n",
       "          [1., 2., 3., 4., 5.],\n",
       "          [1., 2., 3., 4., 5.],\n",
       "          [1., 2., 3., 4., 5.],\n",
       "          [1., 2., 3., 4., 5.]],\n",
       "\n",
       "         [[1., 2., 3., 4., 5.],\n",
       "          [1., 2., 3., 4., 5.],\n",
       "          [1., 2., 3., 4., 5.],\n",
       "          [1., 2., 3., 4., 5.],\n",
       "          [1., 2., 3., 4., 5.]],\n",
       "\n",
       "         [[1., 2., 3., 4., 5.],\n",
       "          [1., 2., 3., 4., 5.],\n",
       "          [1., 2., 3., 4., 5.],\n",
       "          [1., 2., 3., 4., 5.],\n",
       "          [1., 2., 3., 4., 5.]],\n",
       "\n",
       "         [[5., 4., 3., 2., 1.],\n",
       "          [5., 4., 3., 2., 1.],\n",
       "          [5., 4., 3., 2., 1.],\n",
       "          [5., 4., 3., 2., 1.],\n",
       "          [5., 4., 3., 2., 1.]],\n",
       "\n",
       "         [[5., 4., 3., 2., 1.],\n",
       "          [5., 4., 3., 2., 1.],\n",
       "          [5., 4., 3., 2., 1.],\n",
       "          [5., 4., 3., 2., 1.],\n",
       "          [5., 4., 3., 2., 1.]],\n",
       "\n",
       "         [[5., 4., 3., 2., 1.],\n",
       "          [5., 4., 3., 2., 1.],\n",
       "          [5., 4., 3., 2., 1.],\n",
       "          [5., 4., 3., 2., 1.],\n",
       "          [5., 4., 3., 2., 1.]],\n",
       "\n",
       "         [[1., 1., 1., 1., 1.],\n",
       "          [2., 2., 2., 2., 2.],\n",
       "          [3., 3., 3., 3., 3.],\n",
       "          [4., 4., 4., 4., 4.],\n",
       "          [5., 5., 5., 5., 5.]],\n",
       "\n",
       "         [[1., 1., 1., 1., 1.],\n",
       "          [2., 2., 2., 2., 2.],\n",
       "          [3., 3., 3., 3., 3.],\n",
       "          [4., 4., 4., 4., 4.],\n",
       "          [5., 5., 5., 5., 5.]],\n",
       "\n",
       "         [[1., 1., 1., 1., 1.],\n",
       "          [2., 2., 2., 2., 2.],\n",
       "          [3., 3., 3., 3., 3.],\n",
       "          [4., 4., 4., 4., 4.],\n",
       "          [5., 5., 5., 5., 5.]],\n",
       "\n",
       "         [[5., 5., 5., 5., 5.],\n",
       "          [4., 4., 4., 4., 4.],\n",
       "          [3., 3., 3., 3., 3.],\n",
       "          [2., 2., 2., 2., 2.],\n",
       "          [1., 1., 1., 1., 1.]],\n",
       "\n",
       "         [[5., 5., 5., 5., 5.],\n",
       "          [4., 4., 4., 4., 4.],\n",
       "          [3., 3., 3., 3., 3.],\n",
       "          [2., 2., 2., 2., 2.],\n",
       "          [1., 1., 1., 1., 1.]],\n",
       "\n",
       "         [[5., 5., 5., 5., 5.],\n",
       "          [4., 4., 4., 4., 4.],\n",
       "          [3., 3., 3., 3., 3.],\n",
       "          [2., 2., 2., 2., 2.],\n",
       "          [1., 1., 1., 1., 1.]]]], grad_fn=<CatBackward>)"
      ]
     },
     "execution_count": 179,
     "metadata": {},
     "output_type": "execute_result"
    }
   ],
   "source": [
    "output"
   ]
  },
  {
   "cell_type": "code",
   "execution_count": 153,
   "metadata": {},
   "outputs": [
    {
     "data": {
      "text/plain": [
       "[10, 9, 8, 7, 6, 5, 4, 3, 2]"
      ]
     },
     "execution_count": 153,
     "metadata": {},
     "output_type": "execute_result"
    }
   ],
   "source": [
    "list(range(10, 1, -1))"
   ]
  },
  {
   "cell_type": "code",
   "execution_count": null,
   "metadata": {},
   "outputs": [],
   "source": []
  }
 ],
 "metadata": {
  "kernelspec": {
   "display_name": "Python 3",
   "language": "python",
   "name": "python3"
  },
  "language_info": {
   "codemirror_mode": {
    "name": "ipython",
    "version": 3
   },
   "file_extension": ".py",
   "mimetype": "text/x-python",
   "name": "python",
   "nbconvert_exporter": "python",
   "pygments_lexer": "ipython3",
   "version": "3.5.2"
  }
 },
 "nbformat": 4,
 "nbformat_minor": 2
}
