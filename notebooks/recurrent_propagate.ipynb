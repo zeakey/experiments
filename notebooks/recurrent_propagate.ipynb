{
 "cells": [
  {
   "cell_type": "code",
   "execution_count": 1,
   "metadata": {},
   "outputs": [],
   "source": [
    "import torch\n",
    "import torch.nn as nn\n",
    "import numpy as np"
   ]
  },
  {
   "cell_type": "code",
   "execution_count": 59,
   "metadata": {},
   "outputs": [],
   "source": [
    "class RecurrentProp(nn.Module):\n",
    "    \n",
    "    def __init__(self, input_size, hidden_size):\n",
    "        super(RecurrentProp, self).__init__()\n",
    "        self.input_size = input_size\n",
    "        self.hidden_size = hidden_size\n",
    "        \n",
    "        self.conv1x1a = nn.Conv2d(input_size, hidden_size, kernel_size=1, bias=False)\n",
    "        self.conv1x1b = nn.Conv2d(hidden_size, input_size, kernel_size=1, bias=False)\n",
    "        self.weight = torch.nn.Parameter(torch.eye(self.hidden_size))\n",
    "    \n",
    "    def forward(self, x):\n",
    "        N, C, H, W = x.shape\n",
    "        assert C == self.input_size, \"%d vs %d\" % (C, self.input_size)\n",
    "        self.hidden = self.conv1x1a(x)\n",
    "        output = self.hidden\n",
    "        previous = torch.zeros((self.hidden_size))\n",
    "        for n in range(N):\n",
    "            for y in range(H):\n",
    "                for x in range(1, W):\n",
    "                    output[n, :, y, x] = torch.mm(output[n, :, y, x-1].view(1, -1), self.weight)\n",
    "        return output"
   ]
  },
  {
   "cell_type": "code",
   "execution_count": 60,
   "metadata": {},
   "outputs": [],
   "source": [
    "class Model(nn.Module):\n",
    "    def __init__(self):\n",
    "        super(Model, self).__init__()\n",
    "        self.recurrent = RecurrentProp(input_size=5, hidden_size=5)\n",
    "    def foward(self, x):\n",
    "        return self.recurrent(x)"
   ]
  },
  {
   "cell_type": "code",
   "execution_count": 61,
   "metadata": {},
   "outputs": [],
   "source": [
    "model = RecurrentProp(input_size=1, hidden_size=2)\n",
    "\n",
    "x = torch.ones((1, 1, 5, 5))\n",
    "output = model(x)"
   ]
  },
  {
   "cell_type": "code",
   "execution_count": 62,
   "metadata": {},
   "outputs": [
    {
     "data": {
      "text/plain": [
       "torch.Size([1, 2, 5, 5])"
      ]
     },
     "execution_count": 62,
     "metadata": {},
     "output_type": "execute_result"
    }
   ],
   "source": [
    "output"
   ]
  },
  {
   "cell_type": "code",
   "execution_count": null,
   "metadata": {},
   "outputs": [],
   "source": []
  }
 ],
 "metadata": {
  "kernelspec": {
   "display_name": "Python 3",
   "language": "python",
   "name": "python3"
  },
  "language_info": {
   "codemirror_mode": {
    "name": "ipython",
    "version": 3
   },
   "file_extension": ".py",
   "mimetype": "text/x-python",
   "name": "python",
   "nbconvert_exporter": "python",
   "pygments_lexer": "ipython3",
   "version": "3.5.2"
  }
 },
 "nbformat": 4,
 "nbformat_minor": 2
}
