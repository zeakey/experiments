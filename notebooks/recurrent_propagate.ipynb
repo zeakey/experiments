{
 "cells": [
  {
   "cell_type": "code",
   "execution_count": 6,
   "metadata": {},
   "outputs": [],
   "source": [
    "import torch\n",
    "import torch.nn as nn\n",
    "import numpy as np\n",
    "import matplotlib\n",
    "import matplotlib.pyplot as plt\n",
    "%matplotlib inline"
   ]
  },
  {
   "cell_type": "code",
   "execution_count": 15,
   "metadata": {},
   "outputs": [
    {
     "data": {
      "text/plain": [
       "<matplotlib.image.AxesImage at 0x7f1344634278>"
      ]
     },
     "execution_count": 15,
     "metadata": {},
     "output_type": "execute_result"
    },
    {
     "data": {
      "image/png": "[encoded data removed]",
      "text/plain": [
       "<Figure size 432x288 with 1 Axes>"
      ]
     },
     "metadata": {
      "needs_background": "light"
     },
     "output_type": "display_data"
    }
   ],
   "source": [
    "x = np.zeros((10, 10))\n",
    "for i in range(10):\n",
    "    x[:, i] = i\n",
    "plt.imshow(x)"
   ]
  },
  {
   "cell_type": "code",
   "execution_count": 32,
   "metadata": {},
   "outputs": [],
   "source": [
    "class RecurrentProp(nn.Module):\n",
    "\n",
    "    def __init__(self, input_size, hidden_size):\n",
    "        super(RecurrentProp, self).__init__()\n",
    "        self.input_size = input_size\n",
    "        self.hidden_size = hidden_size\n",
    "\n",
    "        self.conv1x1a = nn.Conv2d(input_size, hidden_size, kernel_size=1, bias=False)\n",
    "        self.conv1x1b = nn.Conv2d(hidden_size, input_size, kernel_size=1, bias=False)\n",
    "        self.weight = torch.nn.Parameter(torch.eye(self.hidden_size))\n",
    "\n",
    "    def forward(self, x):\n",
    "        N, C, H, W = x.shape\n",
    "        assert C == self.input_size, \"%d vs %d\" % (C, self.input_size)\n",
    "        self.hidden = self.conv1x1a(x)\n",
    "        output = self.hidden\n",
    "        previous = torch.zeros((self.hidden_size))\n",
    "        for n in range(N):\n",
    "            for y in range(H):\n",
    "                for x in range(1, W):\n",
    "                    output[n, :, y, x] = torch.mm(output[n, :, y, x-1].view(1, -1), self.weight) +\\\n",
    "                    output[n, :, y, x]\n",
    "        return output"
   ]
  },
  {
   "cell_type": "code",
   "execution_count": 33,
   "metadata": {},
   "outputs": [],
   "source": [
    "class Model(nn.Module):\n",
    "    def __init__(self):\n",
    "        super(Model, self).__init__()\n",
    "        self.recurrent = RecurrentProp(input_size=5, hidden_size=5)\n",
    "    def foward(self, x):\n",
    "        return self.recurrent(x)"
   ]
  },
  {
   "cell_type": "code",
   "execution_count": 34,
   "metadata": {},
   "outputs": [],
   "source": [
    "model = RecurrentProp(input_size=1, hidden_size=1)\n",
    "\n",
    "x = torch.ones((1, 1, 5, 5))\n",
    "output = model(x)"
   ]
  },
  {
   "cell_type": "code",
   "execution_count": 35,
   "metadata": {},
   "outputs": [
    {
     "data": {
      "text/plain": [
       "tensor([[[[0.9899, 1.9798, 2.9697, 3.9596, 4.9495],\n",
       "          [0.9899, 1.9798, 2.9697, 3.9596, 4.9495],\n",
       "          [0.9899, 1.9798, 2.9697, 3.9596, 4.9495],\n",
       "          [0.9899, 1.9798, 2.9697, 3.9596, 4.9495],\n",
       "          [0.9899, 1.9798, 2.9697, 3.9596, 4.9495]]]], grad_fn=<CopySlices>)"
      ]
     },
     "execution_count": 35,
     "metadata": {},
     "output_type": "execute_result"
    }
   ],
   "source": [
    "output"
   ]
  },
  {
   "cell_type": "code",
   "execution_count": null,
   "metadata": {},
   "outputs": [],
   "source": []
  },
  {
   "cell_type": "code",
   "execution_count": null,
   "metadata": {},
   "outputs": [],
   "source": []
  }
 ],
 "metadata": {
  "kernelspec": {
   "display_name": "Python 3",
   "language": "python",
   "name": "python3"
  },
  "language_info": {
   "codemirror_mode": {
    "name": "ipython",
    "version": 3
   },
   "file_extension": ".py",
   "mimetype": "text/x-python",
   "name": "python",
   "nbconvert_exporter": "python",
   "pygments_lexer": "ipython3",
   "version": "3.5.2"
  }
 },
 "nbformat": 4,
 "nbformat_minor": 2
}
