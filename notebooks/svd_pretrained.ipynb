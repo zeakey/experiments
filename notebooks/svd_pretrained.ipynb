{
 "cells": [
  {
   "cell_type": "code",
   "execution_count": 1,
   "metadata": {},
   "outputs": [],
   "source": [
    "import torch\n",
    "import torchvision\n",
    "import numpy as np\n",
    "import matplotlib\n",
    "import matplotlib.cm as cm\n",
    "import matplotlib.pyplot as plt"
   ]
  },
  {
   "cell_type": "markdown",
   "metadata": {},
   "source": [
    "The shape of convolutional kernels is [nout, nin, kh, kw].\n",
    "\n",
    "* nout: number of output channels\n",
    "* nin: number of input channels\n",
    "* kh, kw: kernel size"
   ]
  },
  {
   "cell_type": "code",
   "execution_count": 2,
   "metadata": {},
   "outputs": [],
   "source": [
    "def plot_filter(model, layout=[5, 5]):\n",
    "    H, W = layout\n",
    "    fig, axes = plt.subplots(H, W)\n",
    "    idx = 0\n",
    "    for name, param in model.named_parameters():\n",
    "        if 'weight' in name and len(param.shape) == 4 and 'downsample' not in name:\n",
    "            weight = param.data.numpy()\n",
    "            weight -= weight.min()\n",
    "            weight /= max(weight.max(), 1e-6)\n",
    "            weight = np.mean(np.mean(weight, axis=0), axis=0)\n",
    "            ax = axes[idx // W, idx % W] \n",
    "            ax.imshow(weight, cmap=cm.jet)\n",
    "            ax.set_xticks([])\n",
    "            ax.set_yticks([])\n",
    "            # ax.set_title(name, fontsize=5)\n",
    "            idx += 1\n",
    "    plt.axis('off')\n",
    "    plt.tight_layout()\n",
    "    plt.show()"
   ]
  },
  {
   "cell_type": "markdown",
   "metadata": {},
   "source": [
    "I average conv-kernels at **nout, nin** axes and then visualize the averaged kernel,\n",
    "they present some sort of **symmetry**."
   ]
  },
  {
   "cell_type": "code",
   "execution_count": 5,
   "metadata": {},
   "outputs": [
    {
     "data": {
      "image/png": "[encoded data removed]",
      "text/plain": [
       "<Figure size 432x288 with 18 Axes>"
      ]
     },
     "metadata": {
      "needs_background": "light"
     },
     "output_type": "display_data"
    }
   ],
   "source": [
    "plot_filter(torchvision.models.resnet.resnet18(pretrained=True), [3, 6])"
   ]
  },
  {
   "cell_type": "code",
   "execution_count": 3,
   "metadata": {},
   "outputs": [
    {
     "data": {
      "image/png": "[encoded data removed]",
      "text/plain": [
       "<Figure size 432x288 with 35 Axes>"
      ]
     },
     "metadata": {
      "needs_background": "light"
     },
     "output_type": "display_data"
    }
   ],
   "source": [
    "plot_filter(torchvision.models.resnet.resnet34(pretrained=True), [5, 7])"
   ]
  },
  {
   "cell_type": "code",
   "execution_count": 5,
   "metadata": {},
   "outputs": [
    {
     "data": {
      "image/png": "[encoded data removed]",
      "text/plain": [
       "<Figure size 432x288 with 49 Axes>"
      ]
     },
     "metadata": {},
     "output_type": "display_data"
    }
   ],
   "source": [
    "plot_filter(torchvision.models.resnet.resnet50(pretrained=True), [7, 7])"
   ]
  },
  {
   "cell_type": "markdown",
   "metadata": {},
   "source": [
    "# SVD of kernel weights"
   ]
  },
  {
   "cell_type": "code",
   "execution_count": 7,
   "metadata": {},
   "outputs": [],
   "source": [
    "def print_svd(model):\n",
    "    line_new = \"{:20} {:>14} {:>15} {:>15} {:>15}\".format(\"Kernel shape\", \"min SV\", \"max SV\", \"mean SV\", \"std SV\")\n",
    "    print(line_new)\n",
    "                                        \n",
    "    for name, param in model.named_parameters():\n",
    "        if 'weight' in name and len(param.shape) == 4 and 'downsample' not in name:\n",
    "            weight = param.data\n",
    "            U, S, V = torch.svd(weight.view(param.shape[0], -1))\n",
    "            line_new = \"{:20} {:>15} {:>15} {:>15} {:>15}\".format(\n",
    "                str(weight.numpy().shape),\n",
    "                \"{:.6f}\".format(S.min()),\n",
    "                \"{:.6f}\".format(S.max()),\n",
    "                \"{:.6f}\".format(S.mean()),\n",
    "                \"{:.6f}\".format(S.std()),\n",
    "            )\n",
    "            print(line_new)"
   ]
  },
  {
   "cell_type": "markdown",
   "metadata": {},
   "source": [
    "## ResNet18"
   ]
  },
  {
   "cell_type": "code",
   "execution_count": 86,
   "metadata": {},
   "outputs": [
    {
     "name": "stdout",
     "output_type": "stream",
     "text": [
      "Kernel shape                 min SV          max SV         mean SV          std SV\n",
      "(64, 3, 7, 7)               0.000000        4.127810        1.063828        1.167076\n",
      "(64, 64, 3, 3)              0.322690        3.108985        1.081802        0.696484\n",
      "(64, 64, 3, 3)              0.271689        2.163448        0.969313        0.491361\n",
      "(64, 64, 3, 3)              0.467452        2.934300        1.093953        0.547519\n",
      "(64, 64, 3, 3)              0.358101        1.936693        0.970050        0.420203\n",
      "(128, 64, 3, 3)             0.300159        2.003958        0.898225        0.438057\n",
      "(128, 128, 3, 3)            0.430476        2.404564        1.052827        0.477302\n",
      "(128, 128, 3, 3)            0.506819        2.282305        1.081896        0.422707\n",
      "(128, 128, 3, 3)            0.388547        2.965109        0.933154        0.415642\n",
      "(256, 128, 3, 3)            0.254020        2.889916        0.852853        0.497754\n",
      "(256, 256, 3, 3)            0.476275        2.678621        1.110824        0.462207\n",
      "(256, 256, 3, 3)            0.455189        2.524087        0.997207        0.405723\n",
      "(256, 256, 3, 3)            0.287620        3.658133        0.895615        0.433354\n",
      "(512, 256, 3, 3)            0.277889        3.833795        0.834385        0.468881\n",
      "(512, 512, 3, 3)            0.520873        3.969577        1.095634        0.436888\n",
      "(512, 512, 3, 3)            0.492627        7.303533        1.114519        0.496646\n",
      "(512, 512, 3, 3)            0.148600        2.752206        0.756706        0.480588\n"
     ]
    }
   ],
   "source": [
    "model = torchvision.models.resnet.resnet18(pretrained=True)\n",
    "print_svd(model)"
   ]
  },
  {
   "cell_type": "markdown",
   "metadata": {},
   "source": [
    "## ResNet34"
   ]
  },
  {
   "cell_type": "code",
   "execution_count": 87,
   "metadata": {},
   "outputs": [
    {
     "name": "stdout",
     "output_type": "stream",
     "text": [
      "Kernel shape                 min SV          max SV         mean SV          std SV\n",
      "(64, 3, 7, 7)               0.000000        3.973493        0.991103        1.123925\n",
      "(64, 64, 3, 3)              0.220820        2.617781        0.856644        0.564922\n",
      "(64, 64, 3, 3)              0.155292        1.871042        0.728377        0.414380\n",
      "(64, 64, 3, 3)              0.311465        1.858232        0.808507        0.388240\n",
      "(64, 64, 3, 3)              0.173047        1.622595        0.718955        0.381648\n",
      "(64, 64, 3, 3)              0.329353        1.698452        0.795965        0.341816\n",
      "(64, 64, 3, 3)              0.155844        1.490325        0.692161        0.339388\n",
      "(128, 64, 3, 3)             0.217415        1.776666        0.744444        0.399051\n",
      "(128, 128, 3, 3)            0.156828        2.039368        0.816293        0.450389\n",
      "(128, 128, 3, 3)            0.285560        2.263824        0.748380        0.380865\n",
      "(128, 128, 3, 3)            0.171928        1.968264        0.708865        0.361750\n",
      "(128, 128, 3, 3)            0.358898        1.686635        0.817288        0.326914\n",
      "(128, 128, 3, 3)            0.289463        1.946648        0.708322        0.301650\n",
      "(128, 128, 3, 3)            0.395685        1.837091        0.847694        0.343415\n",
      "(128, 128, 3, 3)            0.117943        1.866065        0.639354        0.306497\n",
      "(256, 128, 3, 3)            0.227714        2.134469        0.739489        0.415714\n",
      "(256, 256, 3, 3)            0.399832        2.126313        0.949938        0.397122\n",
      "(256, 256, 3, 3)            0.287643        1.797402        0.736781        0.342981\n",
      "(256, 256, 3, 3)            0.308555        2.339770        0.709737        0.327485\n",
      "(256, 256, 3, 3)            0.342471        1.960373        0.740285        0.304869\n",
      "(256, 256, 3, 3)            0.201378        2.064328        0.676541        0.310566\n",
      "(256, 256, 3, 3)            0.335988        1.980926        0.720312        0.287240\n",
      "(256, 256, 3, 3)            0.093768        2.060519        0.620195        0.320841\n",
      "(256, 256, 3, 3)            0.350959        1.970718        0.742253        0.286100\n",
      "(256, 256, 3, 3)            0.131106        2.363108        0.626770        0.317672\n",
      "(256, 256, 3, 3)            0.348983        2.005527        0.757813        0.294998\n",
      "(256, 256, 3, 3)            0.165414        2.877866        0.639813        0.326831\n",
      "(512, 256, 3, 3)            0.236787        2.931188        0.751120        0.452230\n",
      "(512, 512, 3, 3)            0.365992        1.892829        0.875773        0.358203\n",
      "(512, 512, 3, 3)            0.335701        2.988468        0.817155        0.338996\n",
      "(512, 512, 3, 3)            0.249061        2.918405        0.706879        0.334489\n",
      "(512, 512, 3, 3)            0.316650        5.281673        0.851605        0.390875\n",
      "(512, 512, 3, 3)            0.124409        1.658975        0.626345        0.384257\n"
     ]
    }
   ],
   "source": [
    "model = torchvision.models.resnet.resnet34(pretrained=True)\n",
    "print_svd(model)"
   ]
  },
  {
   "cell_type": "markdown",
   "metadata": {},
   "source": [
    "## ResNet50"
   ]
  },
  {
   "cell_type": "code",
   "execution_count": 88,
   "metadata": {},
   "outputs": [
    {
     "name": "stdout",
     "output_type": "stream",
     "text": [
      "Kernel shape                 min SV          max SV         mean SV          std SV\n",
      "(64, 3, 7, 7)               0.000000        3.820290        1.024195        1.096109\n",
      "(64, 64, 1, 1)              0.000000        1.385159        0.387085        0.418492\n",
      "(64, 64, 3, 3)              0.000000        1.969128        0.520536        0.471462\n",
      "(256, 64, 1, 1)             0.000000        1.835355        0.425505        0.373566\n",
      "(64, 256, 1, 1)             0.000000        1.234165        0.389628        0.300231\n",
      "(64, 64, 3, 3)              0.200175        1.511813        0.599548        0.347154\n",
      "(256, 64, 1, 1)             0.112166        1.182422        0.450040        0.263852\n",
      "(64, 256, 1, 1)             0.107653        1.203937        0.392770        0.280328\n",
      "(64, 64, 3, 3)              0.269148        1.631139        0.683151        0.342208\n",
      "(256, 64, 1, 1)             0.094926        1.007083        0.428781        0.257331\n",
      "(128, 256, 1, 1)            0.058655        1.661010        0.437722        0.362175\n",
      "(128, 128, 3, 3)            0.248415        1.602456        0.683240        0.326611\n",
      "(512, 128, 1, 1)            0.127623        1.348001        0.544697        0.328537\n",
      "(128, 512, 1, 1)            0.017561        1.564046        0.242195        0.289981\n",
      "(128, 128, 3, 3)            0.056397        2.277522        0.452469        0.477264\n",
      "(512, 128, 1, 1)            0.054780        1.442630        0.373624        0.333420\n",
      "(128, 512, 1, 1)            0.109656        1.474058        0.432592        0.303698\n",
      "(128, 128, 3, 3)            0.229092        1.670932        0.639254        0.360107\n",
      "(512, 128, 1, 1)            0.144158        1.261448        0.515916        0.292187\n",
      "(128, 512, 1, 1)            0.145541        1.460680        0.468965        0.289820\n",
      "(128, 128, 3, 3)            0.279091        1.441184        0.698000        0.304394\n",
      "(512, 128, 1, 1)            0.146894        1.261196        0.486879        0.258763\n",
      "(256, 512, 1, 1)            0.108216        1.989408        0.568170        0.404073\n",
      "(256, 256, 3, 3)            0.261751        1.795685        0.734653        0.394775\n",
      "(1024, 256, 1, 1)           0.180172        1.814265        0.649198        0.372523\n",
      "(256, 1024, 1, 1)           0.084339        1.281001        0.395074        0.285590\n",
      "(256, 256, 3, 3)            0.215909        1.776770        0.625832        0.366425\n",
      "(1024, 256, 1, 1)           0.170077        1.835700        0.573390        0.311675\n",
      "(256, 1024, 1, 1)           0.117641        1.390128        0.415129        0.286833\n",
      "(256, 256, 3, 3)            0.250125        1.701862        0.638126        0.336240\n",
      "(1024, 256, 1, 1)           0.166692        1.474588        0.533722        0.297980\n",
      "(256, 1024, 1, 1)           0.154028        1.393771        0.484565        0.272215\n",
      "(256, 256, 3, 3)            0.282672        1.624277        0.654430        0.294428\n",
      "(1024, 256, 1, 1)           0.176429        1.578985        0.519980        0.266232\n",
      "(256, 1024, 1, 1)           0.182521        1.408719        0.518807        0.260806\n",
      "(256, 256, 3, 3)            0.288498        1.620529        0.653542        0.291314\n",
      "(1024, 256, 1, 1)           0.180637        1.771658        0.517859        0.268625\n",
      "(256, 1024, 1, 1)           0.222997        1.529814        0.576097        0.258592\n",
      "(256, 256, 3, 3)            0.290741        1.934877        0.666199        0.306002\n",
      "(1024, 256, 1, 1)           0.197162        2.224346        0.549477        0.287614\n",
      "(512, 1024, 1, 1)           0.163577        2.800103        0.658047        0.386099\n",
      "(512, 512, 3, 3)            0.309694        2.159885        0.762138        0.383347\n",
      "(2048, 512, 1, 1)           0.209465        1.735422        0.623642        0.301567\n",
      "(512, 2048, 1, 1)           0.197744        2.093640        0.597812        0.297334\n",
      "(512, 512, 3, 3)            0.324867        2.439129        0.769806        0.327821\n",
      "(2048, 512, 1, 1)           0.151898        1.893927        0.606858        0.299588\n",
      "(512, 2048, 1, 1)           0.265333        3.095460        0.748472        0.337491\n",
      "(512, 512, 3, 3)            0.193114        3.455693        0.660803        0.357411\n",
      "(2048, 512, 1, 1)           0.064590        1.482020        0.545924        0.337120\n"
     ]
    }
   ],
   "source": [
    "model = torchvision.models.resnet.resnet50(pretrained=True)\n",
    "print_svd(model)"
   ]
  },
  {
   "cell_type": "markdown",
   "metadata": {},
   "source": [
    "## AlexNet (without bn)"
   ]
  },
  {
   "cell_type": "code",
   "execution_count": 92,
   "metadata": {},
   "outputs": [
    {
     "name": "stdout",
     "output_type": "stream",
     "text": [
      "Kernel shape                 min SV          max SV         mean SV          std SV\n",
      "(64, 3, 11, 11)             0.206471        4.592607        1.809391        1.311658\n",
      "(192, 64, 5, 5)             0.458008        5.535927        1.612217        0.982809\n",
      "(384, 192, 3, 3)            0.427188        6.099567        1.253595        0.752255\n",
      "(256, 384, 3, 3)            0.835276        6.406738        1.502814        0.641620\n",
      "(256, 256, 3, 3)            0.540765        6.545052        1.124878        0.614995\n"
     ]
    }
   ],
   "source": [
    "model = torchvision.models.alexnet(pretrained=True)\n",
    "print_svd(model)"
   ]
  },
  {
   "cell_type": "markdown",
   "metadata": {},
   "source": [
    "## VGG16 (without bn)"
   ]
  },
  {
   "cell_type": "code",
   "execution_count": 93,
   "metadata": {},
   "outputs": [
    {
     "name": "stdout",
     "output_type": "stream",
     "text": [
      "Kernel shape                 min SV          max SV         mean SV          std SV\n",
      "(64, 3, 3, 3)               0.067007        5.231642        1.334812        1.526919\n",
      "(64, 64, 3, 3)              0.346622        3.468568        1.110053        0.757954\n",
      "(128, 64, 3, 3)             0.234237        3.151973        0.960978        0.708947\n",
      "(128, 128, 3, 3)            0.461391        2.825836        1.171760        0.581780\n",
      "(256, 128, 3, 3)            0.267589        3.024736        0.906282        0.587673\n",
      "(256, 256, 3, 3)            0.449137        3.507679        1.047891        0.542222\n",
      "(256, 256, 3, 3)            0.491658        4.190733        1.100702        0.522899\n",
      "(512, 256, 3, 3)            0.272543        3.737435        0.879042        0.549692\n",
      "(512, 512, 3, 3)            0.434533        4.773206        0.992807        0.502233\n",
      "(512, 512, 3, 3)            0.460019        6.164806        0.997814        0.486083\n",
      "(512, 512, 3, 3)            0.461264        4.220067        1.067310        0.496290\n",
      "(512, 512, 3, 3)            0.437913        5.435519        1.036155        0.510594\n",
      "(512, 512, 3, 3)            0.281268        6.994747        0.961567        0.518343\n"
     ]
    }
   ],
   "source": [
    "model = torchvision.models.vgg16(pretrained=True)\n",
    "print_svd(model)"
   ]
  },
  {
   "cell_type": "markdown",
   "metadata": {},
   "source": [
    "## VGG16-bn"
   ]
  },
  {
   "cell_type": "code",
   "execution_count": 8,
   "metadata": {},
   "outputs": [
    {
     "name": "stdout",
     "output_type": "stream",
     "text": [
      "Kernel shape                 min SV          max SV         mean SV          std SV\n",
      "(64, 3, 3, 3)               0.001752        4.010293        0.772110        1.244841\n",
      "(64, 64, 3, 3)              0.000002        2.275260        0.658264        0.544591\n",
      "(128, 64, 3, 3)             0.000000        3.344049        0.654922        0.688060\n",
      "(128, 128, 3, 3)            0.000000        2.125844        0.858383        0.482852\n",
      "(256, 128, 3, 3)            0.000000        2.279605        0.715559        0.514280\n",
      "(256, 256, 3, 3)            0.121464        2.998530        0.858723        0.474269\n",
      "(256, 256, 3, 3)            0.415390        2.918220        0.947250        0.425832\n",
      "(512, 256, 3, 3)            0.105104        2.562731        0.789612        0.478278\n",
      "(512, 512, 3, 3)            0.013820        3.725614        0.933794        0.482018\n",
      "(512, 512, 3, 3)            0.013048        5.248336        0.967410        0.458266\n",
      "(512, 512, 3, 3)            0.436562        3.404605        1.034474        0.455794\n",
      "(512, 512, 3, 3)            0.383769        6.143891        0.981002        0.501098\n",
      "(512, 512, 3, 3)            0.000000        6.145546        0.885658        0.471950\n"
     ]
    }
   ],
   "source": [
    "model = torchvision.models.vgg16_bn(pretrained=True)\n",
    "print_svd(model)"
   ]
  },
  {
   "cell_type": "code",
   "execution_count": null,
   "metadata": {},
   "outputs": [],
   "source": []
  }
 ],
 "metadata": {
  "kernelspec": {
   "display_name": "Python 3",
   "language": "python",
   "name": "python3"
  },
  "language_info": {
   "codemirror_mode": {
    "name": "ipython",
    "version": 3
   },
   "file_extension": ".py",
   "mimetype": "text/x-python",
   "name": "python",
   "nbconvert_exporter": "python",
   "pygments_lexer": "ipython3",
   "version": "3.5.2"
  }
 },
 "nbformat": 4,
 "nbformat_minor": 2
}
