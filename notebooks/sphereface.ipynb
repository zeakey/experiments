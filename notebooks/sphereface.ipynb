{
 "cells": [
  {
   "cell_type": "markdown",
   "metadata": {},
   "source": [
    "Sphereface ([arXiv](https://arxiv.org/pdf/1704.08063.pdf)) Eq.(7)的解释"
   ]
  },
  {
   "cell_type": "code",
   "execution_count": 25,
   "metadata": {},
   "outputs": [],
   "source": [
    "import numpy as np\n",
    "import matplotlib\n",
    "%matplotlib inline\n",
    "import matplotlib.pyplot as plt"
   ]
  },
  {
   "cell_type": "markdown",
   "metadata": {},
   "source": [
    "首先是\n",
    "\\begin{equation}\n",
    "\\begin{split}\n",
    "\\mathcal{L} &= \\sum_{i=1}^N -\\log \\frac{e^{||x_i||\\cos(\\theta_{y_i,i})}}{x}\\\\\n",
    "&= \\sum_{i=1}^N -\\log \\frac{e^{||x_i||\\psi(\\theta_{y_i,i})}}{x}\n",
    "\\end{split}\n",
    "\\end{equation}\n",
    "\n",
    "这里要求$\\psi(\\cdot)$是一个关于$\\theta_{y_i,i}$的单调递增的函数。\n",
    "\n",
    "\n",
    "然后作者定义\n",
    "\\begin{equation}\n",
    "\\psi(\\theta_{y_i,i})=(-1)^k\\cos(\\theta_{y_i,i})-2k\n",
    "\\end{equation}\n",
    "其中$\\theta \\in [\\frac{k}{m}\\pi, \\frac{k+1}{m}\\pi]$，$k \\in [0,...,m-1]$\n"
   ]
  },
  {
   "cell_type": "code",
   "execution_count": 26,
   "metadata": {},
   "outputs": [],
   "source": [
    "x = np.arange(0,np.pi,0.1)"
   ]
  },
  {
   "cell_type": "code",
   "execution_count": 27,
   "metadata": {},
   "outputs": [],
   "source": [
    "def psi(x, m, k):\n",
    "    return (-1)**k*np.cos(m*x)-2*k\n",
    "\n",
    "def f2(x):\n",
    "    y = np.zeros_like(x)\n",
    "    for idx, x1 in enumerate(x):\n",
    "        if x1 <= np.pi/2:\n",
    "            k = 0\n",
    "        else:\n",
    "            k = 1\n",
    "        y[idx] = psi(x1, 2, k)\n",
    "    return y\n",
    "            \n",
    "def f3(x):\n",
    "    y = np.zeros_like(x)\n",
    "    for idx, x1 in enumerate(x):\n",
    "        if x1 <= np.pi/3:\n",
    "            k = 0\n",
    "        elif x1 <= 2*np.pi/3:\n",
    "            k = 1\n",
    "        else:\n",
    "            k = 2\n",
    "        y[idx] = psi(x1, 3, k)\n",
    "    return y\n",
    "\n",
    "def f4(x):\n",
    "    y = np.zeros_like(x)\n",
    "    for idx, x1 in enumerate(x):\n",
    "        if x1 <= np.pi/4:\n",
    "            k = 0\n",
    "        elif x1 <= 2*np.pi/4:\n",
    "            k = 1\n",
    "        elif x1 <= 3*np.pi/4:\n",
    "            k = 2\n",
    "        else:\n",
    "            k = 3\n",
    "        y[idx] = psi(x1, 4, k)\n",
    "    return y"
   ]
  },
  {
   "cell_type": "code",
   "execution_count": 28,
   "metadata": {},
   "outputs": [
    {
     "data": {
      "text/plain": [
       "[<matplotlib.lines.Line2D at 0x7fdcf471eef0>]"
      ]
     },
     "execution_count": 28,
     "metadata": {},
     "output_type": "execute_result"
    },
    {
     "data": {
      "image/png": "[encoded data removed]",
      "text/plain": [
       "<Figure size 1152x216 with 3 Axes>"
      ]
     },
     "metadata": {
      "needs_background": "light"
     },
     "output_type": "display_data"
    }
   ],
   "source": [
    "fig, axes = plt.subplots(1,3,figsize=(16,3))\n",
    "for idx, ax in enumerate(axes):\n",
    "    ax.grid()\n",
    "    ax.set_xlabel(\"$\\\\theta$\", fontsize=16)\n",
    "    ax.set_ylabel(\"$\\\\psi(\\\\theta)$\", fontsize=16)\n",
    "    ax.set_title(\"m=%d\"%(idx+2), fontsize=16)\n",
    "axes[0].plot(x, f2(x), color=\"crimson\")\n",
    "axes[1].plot(x, f3(x), color=\"crimson\")\n",
    "axes[2].plot(x, f4(x), color=\"crimson\")"
   ]
  },
  {
   "cell_type": "code",
   "execution_count": null,
   "metadata": {},
   "outputs": [],
   "source": []
  }
 ],
 "metadata": {
  "kernelspec": {
   "display_name": "Python 3",
   "language": "python",
   "name": "python3"
  },
  "language_info": {
   "codemirror_mode": {
    "name": "ipython",
    "version": 3
   },
   "file_extension": ".py",
   "mimetype": "text/x-python",
   "name": "python",
   "nbconvert_exporter": "python",
   "pygments_lexer": "ipython3",
   "version": "3.6.8"
  }
 },
 "nbformat": 4,
 "nbformat_minor": 2
}
